{
 "cells": [
  {
   "cell_type": "code",
   "execution_count": 3,
   "metadata": {},
   "outputs": [
    {
     "name": "stderr",
     "output_type": "stream",
     "text": [
      "/tmp/ipykernel_22162/3812903467.py:14: DtypeWarning: Columns (15,16,17) have mixed types. Specify dtype option on import or set low_memory=False.\n",
      "  incidents = pd.read_csv(INCIDENTS)\n"
     ]
    }
   ],
   "source": [
    "import pandas as pd\n",
    "import numpy as np\n",
    "import matplotlib.pyplot as plt\n",
    "from tabulate import tabulate\n",
    "import mapply\n",
    "mapply.init(n_workers=7, progressbar=True)\n",
    "\n",
    "\n",
    "# Read the data\n",
    "INCIDENTS = '../../dataset/data-raw/incidents.csv'\n",
    "POVERTYYEAY = '../../dataset/data-raw/povertyByStateYear.csv'\n",
    "STATEDISHOUSE = '../../dataset/data-raw/year_state_district_house.csv'\n",
    "\n",
    "incidents = pd.read_csv(INCIDENTS)\n",
    "poverty = pd.read_csv(POVERTYYEAY)\n",
    "state_district_house = pd.read_csv(STATEDISHOUSE)\n",
    "\n",
    "incidents['state'] = incidents['state'].str.upper()\n",
    "poverty['state'] = poverty['state'].str.upper()\n",
    "state_district_house['state'] = state_district_house['state'].str.upper()\n",
    "\n",
    "incidents['date_year'] = incidents['date'].str.split('-').str[0].astype(int)\n",
    "incidents['date_month'] = incidents['date'].str.split('-').str[1].astype(int)\n",
    "incidents['date_day'] = incidents['date'].str.split('-').str[2].astype(int)\n",
    "del incidents['date']\n",
    "\n",
    "incidents = incidents[['date_year', 'date_month', 'date_day', 'state', 'city_or_county', 'latitude', 'longitude', 'congressional_district', 'min_age_participants', 'avg_age_participants', 'max_age_participants', 'n_participants_child', 'n_participants_teen', 'n_participants_adult', 'n_males', 'n_females', 'n_killed', 'n_injured', 'n_arrested', 'n_unharmed', 'n_participants', 'incident_characteristics1']].copy()\n"
   ]
  },
  {
   "cell_type": "code",
   "execution_count": 4,
   "metadata": {},
   "outputs": [
    {
     "name": "stderr",
     "output_type": "stream",
     "text": [
      "/home/simone/Unipi/InProgress/DM/DM/lib/python3.11/site-packages/numpy/core/fromnumeric.py:59: FutureWarning: 'Series.swapaxes' is deprecated and will be removed in a future version. Please use 'Series.transpose' instead.\n",
      "  return bound(*args, **kwds)\n"
     ]
    },
    {
     "data": {
      "application/vnd.jupyter.widget-view+json": {
       "model_id": "5d2e6fb6d7164422be468c874b7ccade",
       "version_major": 2,
       "version_minor": 0
      },
      "text/plain": [
       "  0%|          | 0/56 [00:00<?, ?it/s]"
      ]
     },
     "metadata": {},
     "output_type": "display_data"
    },
    {
     "name": "stderr",
     "output_type": "stream",
     "text": [
      "/home/simone/Unipi/InProgress/DM/DM/lib/python3.11/site-packages/numpy/core/fromnumeric.py:59: FutureWarning: 'Series.swapaxes' is deprecated and will be removed in a future version. Please use 'Series.transpose' instead.\n",
      "  return bound(*args, **kwds)\n"
     ]
    },
    {
     "data": {
      "application/vnd.jupyter.widget-view+json": {
       "model_id": "6b586548fef348e6a40646598e762e5f",
       "version_major": 2,
       "version_minor": 0
      },
      "text/plain": [
       "  0%|          | 0/56 [00:00<?, ?it/s]"
      ]
     },
     "metadata": {},
     "output_type": "display_data"
    },
    {
     "name": "stderr",
     "output_type": "stream",
     "text": [
      "/home/simone/Unipi/InProgress/DM/DM/lib/python3.11/site-packages/numpy/core/fromnumeric.py:59: FutureWarning: 'Series.swapaxes' is deprecated and will be removed in a future version. Please use 'Series.transpose' instead.\n",
      "  return bound(*args, **kwds)\n"
     ]
    },
    {
     "data": {
      "application/vnd.jupyter.widget-view+json": {
       "model_id": "65cc929812f84447b000a453962e7817",
       "version_major": 2,
       "version_minor": 0
      },
      "text/plain": [
       "  0%|          | 0/56 [00:00<?, ?it/s]"
      ]
     },
     "metadata": {},
     "output_type": "display_data"
    },
    {
     "name": "stderr",
     "output_type": "stream",
     "text": [
      "/home/simone/Unipi/InProgress/DM/DM/lib/python3.11/site-packages/numpy/core/fromnumeric.py:59: FutureWarning: 'Series.swapaxes' is deprecated and will be removed in a future version. Please use 'Series.transpose' instead.\n",
      "  return bound(*args, **kwds)\n"
     ]
    },
    {
     "data": {
      "application/vnd.jupyter.widget-view+json": {
       "model_id": "8ada92cd7f5146aaae0c22678f96dad2",
       "version_major": 2,
       "version_minor": 0
      },
      "text/plain": [
       "  0%|          | 0/56 [00:00<?, ?it/s]"
      ]
     },
     "metadata": {},
     "output_type": "display_data"
    },
    {
     "name": "stderr",
     "output_type": "stream",
     "text": [
      "/home/simone/Unipi/InProgress/DM/DM/lib/python3.11/site-packages/numpy/core/fromnumeric.py:59: FutureWarning: 'Series.swapaxes' is deprecated and will be removed in a future version. Please use 'Series.transpose' instead.\n",
      "  return bound(*args, **kwds)\n"
     ]
    },
    {
     "data": {
      "application/vnd.jupyter.widget-view+json": {
       "model_id": "62c6e4150f0b4c27bb6443448c78e9fb",
       "version_major": 2,
       "version_minor": 0
      },
      "text/plain": [
       "  0%|          | 0/56 [00:00<?, ?it/s]"
      ]
     },
     "metadata": {},
     "output_type": "display_data"
    },
    {
     "name": "stderr",
     "output_type": "stream",
     "text": [
      "/home/simone/Unipi/InProgress/DM/DM/lib/python3.11/site-packages/numpy/core/fromnumeric.py:59: FutureWarning: 'Series.swapaxes' is deprecated and will be removed in a future version. Please use 'Series.transpose' instead.\n",
      "  return bound(*args, **kwds)\n"
     ]
    },
    {
     "data": {
      "application/vnd.jupyter.widget-view+json": {
       "model_id": "1be03f6414834ebcaf752e0cd05645fc",
       "version_major": 2,
       "version_minor": 0
      },
      "text/plain": [
       "  0%|          | 0/56 [00:00<?, ?it/s]"
      ]
     },
     "metadata": {},
     "output_type": "display_data"
    }
   ],
   "source": [
    "# set non-numeric values to NaN in columns supposed to be numeric\n",
    "\n",
    "objcols = incidents.select_dtypes(include=['object']).columns\n",
    "objcols = objcols.drop(['state', 'city_or_county', 'incident_characteristics1'])\n",
    "\n",
    "for col in objcols:\n",
    "    incidents[col] = incidents[col].mapply(pd.to_numeric, errors='coerce')"
   ]
  },
  {
   "cell_type": "code",
   "execution_count": 67,
   "metadata": {},
   "outputs": [
    {
     "name": "stderr",
     "output_type": "stream",
     "text": [
      "/home/simone/Unipi/InProgress/DM/DM/lib/python3.11/site-packages/numpy/core/fromnumeric.py:59: FutureWarning: 'DataFrame.swapaxes' is deprecated and will be removed in a future version. Please use 'DataFrame.transpose' instead.\n",
      "  return bound(*args, **kwds)\n"
     ]
    },
    {
     "data": {
      "application/vnd.jupyter.widget-view+json": {
       "model_id": "6c48d8692ede45f281716379627b429e",
       "version_major": 2,
       "version_minor": 0
      },
      "text/plain": [
       "  0%|          | 0/56 [00:00<?, ?it/s]"
      ]
     },
     "metadata": {},
     "output_type": "display_data"
    },
    {
     "name": "stderr",
     "output_type": "stream",
     "text": [
      "/home/simone/Unipi/InProgress/DM/DM/lib/python3.11/site-packages/numpy/core/fromnumeric.py:59: FutureWarning: 'DataFrame.swapaxes' is deprecated and will be removed in a future version. Please use 'DataFrame.transpose' instead.\n",
      "  return bound(*args, **kwds)\n"
     ]
    },
    {
     "data": {
      "application/vnd.jupyter.widget-view+json": {
       "model_id": "156306113be749e48901ba419f50265e",
       "version_major": 2,
       "version_minor": 0
      },
      "text/plain": [
       "  0%|          | 0/56 [00:00<?, ?it/s]"
      ]
     },
     "metadata": {},
     "output_type": "display_data"
    }
   ],
   "source": [
    "# Infer the congressional district when missing as the most common one in the city\n",
    "# TO-OPTIMIZE: it would be faster to crack RSA-2048 on a TI-84\n",
    "def find_cd(row):\n",
    "    df = incidents[(incidents['state'] == row['state']) * (incidents['city_or_county'] == row['city_or_county'])]\n",
    "    # find the most common congressional district\n",
    "    vc = df['congressional_district'].value_counts()\n",
    "    if vc.empty:\n",
    "        row['congressional_district'] = np.nan\n",
    "        return row\n",
    "    cd = vc.idxmax()\n",
    "    row['congressional_district'] = cd\n",
    "    return row\n",
    "\n",
    "# set out-of-semnsible ranga values to NaN\n",
    "def sensibleValues(row):\n",
    "    # --- range checks ---\n",
    "    if row['date_year'] > 2020:\n",
    "        row['date_year'] = np.nan\n",
    "    if row['min_age_participants'] > 110 or row['min_age_participants'] < 0:\n",
    "        row['min_age_participants'] = np.nan\n",
    "    if row['avg_age_participants'] > 110 or row['avg_age_participants'] < 0:\n",
    "        row['avg_age_participants'] = np.nan\n",
    "    if row['max_age_participants'] > 110 or row['max_age_participants'] < 0:\n",
    "        row['max_age_participants'] = np.nan\n",
    "    # 103 is the maximum value of n_participants\n",
    "    if row['n_participants_child'] > 103 or row['n_participants_child'] < 0:\n",
    "        row['n_participants_child'] = np.nan\n",
    "    if row['n_participants_teen'] > 103 or row['n_participants_teen'] < 0:\n",
    "        row['n_participants_teen'] = np.nan\n",
    "    if row['n_participants_adult'] > 103 or row['n_participants_adult'] < 0:\n",
    "        row['n_participants_adult'] = np.nan\n",
    "    if row['n_killed'] > 103 or row['n_killed'] < 0:\n",
    "        row['n_killed'] = np.nan\n",
    "    if row['n_injured'] > 103 or row['n_injured'] < 0:\n",
    "        row['n_injured'] = np.nan\n",
    "    if row['n_arrested'] > 103 or row['n_arrested'] < 0:\n",
    "        row['n_arrested'] = np.nan\n",
    "    if row['n_unharmed'] > 103 or row['n_unharmed'] < 0:\n",
    "        row['n_unharmed'] = np.nan\n",
    "    return row\n",
    "\n",
    "\n",
    "sincidents = incidents.mapply(sensibleValues, axis=1)\n",
    "\n",
    "sincidents['state_city'] = sincidents['state'] + \"-\" + sincidents['city_or_county']\n",
    "cd_df = sincidents[['state_city', 'congressional_district']]\n",
    "cd_vc = cd_df.groupby('state_city')['congressional_district'].value_counts()\n",
    "cd_vc = cd_vc.reset_index(name='count')\n",
    "cd_vc = cd_vc.groupby('state_city').head(1)\n",
    "\n",
    "def fix_cd(row):\n",
    "    if np.isnan(row['congressional_district']):\n",
    "        should_be = cd_vc[cd_vc['state_city'] == row['state_city']]\n",
    "        if should_be.empty:\n",
    "            row['congressional_district'] = np.nan\n",
    "        else:\n",
    "            row['congressional_district'] = should_be['congressional_district'].values[0]\n",
    "    return row\n",
    "\n",
    "sincidents = sincidents.mapply(fix_cd, axis=1)\n",
    "sincidents = sincidents.drop('state_city', axis=1)"
   ]
  },
  {
   "cell_type": "code",
   "execution_count": 68,
   "metadata": {},
   "outputs": [
    {
     "name": "stderr",
     "output_type": "stream",
     "text": [
      "/home/simone/Unipi/InProgress/DM/DM/lib/python3.11/site-packages/numpy/core/fromnumeric.py:59: FutureWarning: 'DataFrame.swapaxes' is deprecated and will be removed in a future version. Please use 'DataFrame.transpose' instead.\n",
      "  return bound(*args, **kwds)\n"
     ]
    },
    {
     "data": {
      "application/vnd.jupyter.widget-view+json": {
       "model_id": "74610f6f3c224b738cbcf0d134a624ff",
       "version_major": 2,
       "version_minor": 0
      },
      "text/plain": [
       "  0%|          | 0/56 [00:00<?, ?it/s]"
      ]
     },
     "metadata": {},
     "output_type": "display_data"
    },
    {
     "name": "stdout",
     "output_type": "stream",
     "text": [
      "DONE diff\n",
      "DONE dncidents\n"
     ]
    },
    {
     "name": "stderr",
     "output_type": "stream",
     "text": [
      "/home/simone/Unipi/InProgress/DM/DM/lib/python3.11/site-packages/numpy/core/fromnumeric.py:59: FutureWarning: 'DataFrame.swapaxes' is deprecated and will be removed in a future version. Please use 'DataFrame.transpose' instead.\n",
      "  return bound(*args, **kwds)\n"
     ]
    },
    {
     "data": {
      "application/vnd.jupyter.widget-view+json": {
       "model_id": "5a3fa98e235446ec89a6339296c4337c",
       "version_major": 2,
       "version_minor": 0
      },
      "text/plain": [
       "  0%|          | 0/56 [00:00<?, ?it/s]"
      ]
     },
     "metadata": {},
     "output_type": "display_data"
    },
    {
     "name": "stdout",
     "output_type": "stream",
     "text": [
      "DONE wncidents\n"
     ]
    }
   ],
   "source": [
    "# given the groups \n",
    "#   (n_participants)\n",
    "#   (n_males, n_females)\n",
    "#   (n_participants_child, n_participants_teen, n_participants_adult)\n",
    "#   (n_killed, n_injured, n_arrested, n_unharmed)\n",
    "# we find and solve inconsistencies between their sums, keeping the original proportions\n",
    "# Example:\n",
    "#   n_participants = 10\n",
    "#   n_participants_child\n",
    "#       + n_participants_teen\n",
    "#       + n_participants_adult = 10\n",
    "#   n_males = 2\n",
    "#   n_females = 6\n",
    "# then the most probable values (according to our assumptions) are groups that sum to 10 so:\n",
    "#   n_males => 3\n",
    "#   n_females => 7\n",
    "\n",
    "from random import randint\n",
    "\n",
    "# Don't ask, it works (maybe)\n",
    "def mf(row):\n",
    "    mf = row['n_males'] + row['n_females']\n",
    "    cta = row['n_participants_child'] + row['n_participants_teen'] + row['n_participants_adult']\n",
    "    kiau = row['n_killed'] + row['n_injured'] + row['n_arrested'] + row['n_unharmed']\n",
    "    p = row['n_participants']\n",
    "\n",
    "    if mf == cta == kiau == p:\n",
    "        return 0b0000\n",
    "    elif mf == cta == kiau:\n",
    "        return 0b0001\n",
    "    elif mf == cta == p:\n",
    "        return 0b0010\n",
    "    elif mf == kiau == p:\n",
    "        return 0b0100\n",
    "    elif cta == kiau == p:\n",
    "        return 0b1000\n",
    "    elif mf == p:\n",
    "        return 0b0110\n",
    "    elif cta == p:\n",
    "        return 0b1010\n",
    "    elif kiau == p:\n",
    "        return 0b1100\n",
    "    elif mf == cta:\n",
    "        return 0b0011\n",
    "    elif mf == kiau:\n",
    "        return 0b0101\n",
    "    elif cta == kiau:\n",
    "        return 0b1001\n",
    "    return 0b1111\n",
    "\n",
    "def perc_calc(vals: list):\n",
    "    s = np.sum(vals)\n",
    "    if s == 0:\n",
    "        return 1/len(vals)\n",
    "    return vals[0] / s\n",
    "\n",
    "    \n",
    "def nannifyErrors(row):\n",
    "    err_bits = mf(row)\n",
    "    err_p = err_bits & 0b0001\n",
    "    err_mf = err_bits & 0b1000\n",
    "    err_cta = err_bits & 0b0100\n",
    "    err_kiau = err_bits & 0b0010\n",
    "\n",
    "    ref = row['n_participants'] if not err_p else \\\n",
    "        row['n_males'] + row['n_females'] if not err_mf else \\\n",
    "        row['n_participants_child'] + row['n_participants_teen'] + row['n_participants_adult'] if not err_cta else \\\n",
    "        row['n_killed'] + row['n_injured'] + row['n_arrested'] + row['n_unharmed'] if not err_kiau else \\\n",
    "        np.nan\n",
    "\n",
    "\n",
    "    if err_p:\n",
    "        row['n_participants'] = ref\n",
    "    if err_mf:\n",
    "        p_m = perc_calc([row['n_males'], row['n_females']])\n",
    "        row['n_males'] = np.round(ref * p_m)\n",
    "        row['n_females'] = np.round(ref * (1 - p_m))\n",
    "        diff = ref - (row['n_males'] + row['n_females'])\n",
    "        if diff != 0:\n",
    "            # With 1/2 probability add the difference to males of females\n",
    "            row['n_males' if randint(0,1) else 'n_females'] += diff\n",
    "    if err_cta:\n",
    "        p_c = perc_calc([row['n_participants_child'], row['n_participants_teen'], row['n_participants_adult']])\n",
    "        p_t = perc_calc([row['n_participants_teen'], row['n_participants_child'], row['n_participants_adult']])\n",
    "        row['n_participants_child'] = np.round(ref * p_c)\n",
    "        row['n_participants_teen'] = np.round(ref * p_t)\n",
    "        row['n_participants_adult'] = np.round(ref * (1 - p_c - p_t))\n",
    "        diff = ref - (row['n_participants_child'] + row['n_participants_teen'] + row['n_participants_adult'])\n",
    "        if diff != 0:\n",
    "            # With 1/3 probability, add the difference to child, teen or adult\n",
    "            row['n_participants_child' if randint(0,2) == 0 else 'n_participants_teen' if randint(0,1) else 'n_participants_adult'] += diff\n",
    "    if err_kiau:\n",
    "        p_k = perc_calc([row['n_killed'], row['n_injured'], row['n_arrested'], row['n_unharmed']])\n",
    "        p_i = perc_calc([row['n_injured'], row['n_killed'], row['n_arrested'], row['n_unharmed']])\n",
    "        p_a = perc_calc([row['n_arrested'], row['n_killed'], row['n_injured'], row['n_unharmed']])\n",
    "        row['n_killed'] = np.round(ref * p_k)\n",
    "        row['n_injured'] = np.round(ref * p_i)\n",
    "        row['n_arrested'] = np.round(ref * p_a)\n",
    "        row['n_unharmed'] = np.round(ref * (1 - p_k - p_i - p_a))\n",
    "        diff = ref - (row['n_killed'] + row['n_injured'] + row['n_arrested'] + row['n_unharmed'])\n",
    "        if diff != 0:\n",
    "            # With 1/4 probability, add the difference to killed, injured, arrested or unharmed\n",
    "            row['n_killed' if randint(0,3) == 0 else 'n_injured' if randint(0,2) == 0 else 'n_arrested' if randint(0,1) else 'n_unharmed'] += diff\n",
    "    return row\n",
    "\n",
    "\n",
    "\n",
    "diff = sincidents.mapply(mf, axis=1)\n",
    "print('DONE diff')\n",
    "# incidents without problems\n",
    "dncidents = sincidents[diff == 0b0000]\n",
    "print('DONE dncidents')\n",
    "# incidents with problems\n",
    "wncidents = sincidents[diff != 0b0000].mapply(nannifyErrors, axis=1)\n",
    "print('DONE wncidents')\n",
    "\n",
    "# dncidents = incidents.iloc[0:10000].apply(nannifyErrors, axis=1)"
   ]
  },
  {
   "cell_type": "code",
   "execution_count": 69,
   "metadata": {},
   "outputs": [],
   "source": [
    "# merge wncidents with dncidents\n",
    "wdincidents = pd.concat([wncidents, dncidents], ignore_index=False)\n",
    "# shuffle the rows to mix the incidents with problems (wncidents) with the others (dncidents)\n",
    "wdincidents = wdincidents.sample(frac=1)"
   ]
  },
  {
   "cell_type": "code",
   "execution_count": 70,
   "metadata": {},
   "outputs": [
    {
     "name": "stdout",
     "output_type": "stream",
     "text": [
      "+----+-------------+--------------+------------+---------+------------------+------------+-------------+--------------------------+------------------------+------------------------+------------------------+------------------------+-----------------------+------------------------+-----------+-------------+------------+-------------+--------------+--------------+------------------+-----------------------------+\n",
      "|    |   date_year |   date_month |   date_day |   state |   city_or_county |   latitude |   longitude |   congressional_district |   min_age_participants |   avg_age_participants |   max_age_participants |   n_participants_child |   n_participants_teen |   n_participants_adult |   n_males |   n_females |   n_killed |   n_injured |   n_arrested |   n_unharmed |   n_participants |   incident_characteristics1 |\n",
      "|----+-------------+--------------+------------+---------+------------------+------------+-------------+--------------------------+------------------------+------------------------+------------------------+------------------------+-----------------------+------------------------+-----------+-------------+------------+-------------+--------------+--------------+------------------+-----------------------------|\n",
      "|  0 |       23031 |            0 |          0 |       0 |                0 |       7923 |        7923 |                      425 |                  92296 |                  92300 |                  92299 |                  42167 |                 42167 |                  42167 |     36519 |       36519 |      27818 |       27818 |        27818 |        27818 |            26290 |                         326 |\n",
      "+----+-------------+--------------+------------+---------+------------------+------------+-------------+--------------------------+------------------------+------------------------+------------------------+------------------------+-----------------------+------------------------+-----------+-------------+------------+-------------+--------------+--------------+------------------+-----------------------------+\n",
      "+----+-------------+--------------+------------+---------+------------------+------------+-------------+--------------------------+------------------------+------------------------+------------------------+------------------------+-----------------------+------------------------+-----------+-------------+------------+-------------+--------------+--------------+------------------+-----------------------------+\n",
      "|    |   date_year |   date_month |   date_day |   state |   city_or_county |   latitude |   longitude |   congressional_district |   min_age_participants |   avg_age_participants |   max_age_participants |   n_participants_child |   n_participants_teen |   n_participants_adult |   n_males |   n_females |   n_killed |   n_injured |   n_arrested |   n_unharmed |   n_participants |   incident_characteristics1 |\n",
      "|----+-------------+--------------+------------+---------+------------------+------------+-------------+--------------------------+------------------------+------------------------+------------------------+------------------------+-----------------------+------------------------+-----------+-------------+------------+-------------+--------------+--------------+------------------+-----------------------------|\n",
      "|  0 |       22987 |            0 |          0 |       0 |                0 |       7123 |        7123 |                        0 |                  65893 |                  65897 |                  65896 |                  15828 |                 15828 |                  15828 |     10205 |       10205 |       1514 |        1514 |         1514 |         1514 |                0 |                           0 |\n",
      "+----+-------------+--------------+------------+---------+------------------+------------+-------------+--------------------------+------------------------+------------------------+------------------------+------------------------+-----------------------+------------------------+-----------+-------------+------------+-------------+--------------+--------------+------------------+-----------------------------+\n",
      "0.8861759785044039\n",
      "+----+-------------+--------------+------------+---------+------------------+------------+-------------+--------------------------+------------------------+------------------------+------------------------+------------------------+-----------------------+------------------------+-----------+-------------+------------+-------------+--------------+--------------+------------------+-----------------------------+-------------+\n",
      "|    |   date_year |   date_month |   date_day |   state |   city_or_county |   latitude |   longitude |   congressional_district |   min_age_participants |   avg_age_participants |   max_age_participants |   n_participants_child |   n_participants_teen |   n_participants_adult |   n_males |   n_females |   n_killed |   n_injured |   n_arrested |   n_unharmed |   n_participants |   incident_characteristics1 |   timestamp |\n",
      "|----+-------------+--------------+------------+---------+------------------+------------+-------------+--------------------------+------------------------+------------------------+------------------------+------------------------+-----------------------+------------------------+-----------+-------------+------------+-------------+--------------+--------------+------------------+-----------------------------+-------------|\n",
      "|  0 |           0 |            0 |          0 |       0 |                0 |          0 |           0 |                        0 |                      0 |                      0 |                      0 |                      0 |                     0 |                      0 |         0 |           0 |          0 |           0 |            0 |            0 |                0 |                           0 |           0 |\n",
      "+----+-------------+--------------+------------+---------+------------------+------------+-------------+--------------------------+------------------------+------------------------+------------------------+------------------------+-----------------------+------------------------+-----------+-------------+------------+-------------+--------------+--------------+------------------+-----------------------------+-------------+\n"
     ]
    }
   ],
   "source": [
    "cincidents = wdincidents.copy()\n",
    "\n",
    "print(tabulate(pd.DataFrame(cincidents.isnull().sum(axis=0)).T, headers='keys', tablefmt='psql'))\n",
    "\n",
    "# cincidents['n_nan'] = cincidents.isnull().sum(axis=1)\n",
    "# cincidents['n_nan'].value_counts().sort_index().plot.bar()\n",
    "\n",
    "mfdslkmfdslk = cincidents[(cincidents[['n_participants', 'n_males', 'n_females', 'n_participants_child', 'n_participants_teen', 'n_participants_adult', 'n_killed', 'n_injured', 'n_arrested', 'n_unharmed']].isnull().sum(axis=1) == 10)]\n",
    "\n",
    "# 425 bad rows\n",
    "cincidents = cincidents[~cincidents['congressional_district'].isnull()]\n",
    "# 326 bad rows\n",
    "cincidents = cincidents[~cincidents['incident_characteristics1'].isnull()]\n",
    "# remove all rows where the n_participants groups are all NaN\n",
    "cincidents = cincidents[~(cincidents[['n_participants', 'n_males', 'n_females', 'n_participants_child', 'n_participants_teen', 'n_participants_adult', 'n_killed', 'n_injured', 'n_arrested', 'n_unharmed']].isnull().sum(axis=1) == 10)]\n",
    "print(tabulate(pd.DataFrame(cincidents.isnull().sum(axis=0)).T, headers='keys', tablefmt='psql'))\n",
    "# drop duplicates\n",
    "cincidents = cincidents.drop_duplicates()\n",
    "\n",
    "print(cincidents.shape[0] / incidents.shape[0])\n",
    "\n",
    "# TEMPORARY: Fix all NaNs with the median of the column\n",
    "# for col in ['n_participants', 'n_males', 'n_females', 'n_participants_child', 'n_participants_teen', 'n_participants_adult', 'n_killed', 'n_injured', 'n_arrested', 'n_unharmed']:\n",
    "for col in cincidents.select_dtypes(include=['float64']).columns:\n",
    "    median = cincidents[col].median()\n",
    "    cincidents[col] = cincidents[col].fillna(median)\n",
    "\n",
    "\n",
    "# set as number of days since 2010-01-01\n",
    "cincidents['timestamp'] = (pd.to_datetime(cincidents[['date_year', 'date_month', 'date_day']].astype(int).astype(str).apply(lambda x: '-'.join(x), axis=1)).astype(int) - pd.to_datetime(['2010-01-01']).astype(int)[0]) / 86400000000000\n",
    "\n",
    "# cincidents = cincidents.drop(['date_year', 'date_month', 'date_day'], axis=1)\n",
    "print(tabulate(pd.DataFrame(cincidents.isnull().sum(axis=0)).T, headers='keys', tablefmt='psql'))"
   ]
  },
  {
   "cell_type": "code",
   "execution_count": 72,
   "metadata": {},
   "outputs": [
    {
     "name": "stderr",
     "output_type": "stream",
     "text": [
      "/home/simone/Unipi/InProgress/DM/DM/lib/python3.11/site-packages/numpy/core/fromnumeric.py:59: FutureWarning: 'Series.swapaxes' is deprecated and will be removed in a future version. Please use 'Series.transpose' instead.\n",
      "  return bound(*args, **kwds)\n"
     ]
    },
    {
     "data": {
      "application/vnd.jupyter.widget-view+json": {
       "model_id": "ce0c61ae26ae4120b8854929782b8bdf",
       "version_major": 2,
       "version_minor": 0
      },
      "text/plain": [
       "  0%|          | 0/56 [00:00<?, ?it/s]"
      ]
     },
     "metadata": {},
     "output_type": "display_data"
    },
    {
     "name": "stderr",
     "output_type": "stream",
     "text": [
      "/home/simone/Unipi/InProgress/DM/DM/lib/python3.11/site-packages/numpy/core/fromnumeric.py:59: FutureWarning: 'Series.swapaxes' is deprecated and will be removed in a future version. Please use 'Series.transpose' instead.\n",
      "  return bound(*args, **kwds)\n"
     ]
    },
    {
     "data": {
      "application/vnd.jupyter.widget-view+json": {
       "model_id": "5f9628cb89174f6c84ef570c98266517",
       "version_major": 2,
       "version_minor": 0
      },
      "text/plain": [
       "  0%|          | 0/56 [00:00<?, ?it/s]"
      ]
     },
     "metadata": {},
     "output_type": "display_data"
    }
   ],
   "source": [
    "# Merge with poverty\n",
    "# poverty header: [state,year,povertyPercentage]\n",
    "merged = cincidents.merge(poverty, how='left', left_on=['state', 'date_year'], right_on=['state', 'year'])\n",
    "merged = merged.drop(columns=['year'])\n",
    "\n",
    "# Merge with state_district_house\n",
    "# state_district_house header: [year,state,congressional_district,party,candidatevotes,totalvotes]\n",
    "# state_district_house rows are only for even years but we have incidents for all years\n",
    "merged['congressional_district'] = merged['congressional_district'].mapply(lambda x: 1 if x == 0 else x)\n",
    "state_district_house['congressional_district'] = state_district_house['congressional_district'].mapply(lambda x: 1 if x == 0 else x)\n",
    "stete_district_house_odd = state_district_house.copy()\n",
    "stete_district_house_odd['year'] = state_district_house['year'] + 1\n",
    "state_district_house = pd.concat([state_district_house, stete_district_house_odd], ignore_index=True).reset_index(drop=True)\n",
    "\n",
    "merged = merged.merge(state_district_house, how='left', left_on=['state', 'date_year', 'congressional_district'], right_on=['state', 'year', 'congressional_district'])\n",
    "merged = merged.drop(columns=['year'])\n",
    "\n",
    "merged.isnull().sum(axis=0)\n",
    "merged = merged[~(merged['congressional_district'] == 0)]"
   ]
  },
  {
   "cell_type": "code",
   "execution_count": 73,
   "metadata": {},
   "outputs": [
    {
     "data": {
      "text/html": [
       "<div>\n",
       "<style scoped>\n",
       "    .dataframe tbody tr th:only-of-type {\n",
       "        vertical-align: middle;\n",
       "    }\n",
       "\n",
       "    .dataframe tbody tr th {\n",
       "        vertical-align: top;\n",
       "    }\n",
       "\n",
       "    .dataframe thead th {\n",
       "        text-align: right;\n",
       "    }\n",
       "</style>\n",
       "<table border=\"1\" class=\"dataframe\">\n",
       "  <thead>\n",
       "    <tr style=\"text-align: right;\">\n",
       "      <th></th>\n",
       "      <th>date_year</th>\n",
       "      <th>date_month</th>\n",
       "      <th>date_day</th>\n",
       "      <th>state</th>\n",
       "      <th>city_or_county</th>\n",
       "      <th>latitude</th>\n",
       "      <th>longitude</th>\n",
       "      <th>congressional_district</th>\n",
       "      <th>min_age_participants</th>\n",
       "      <th>avg_age_participants</th>\n",
       "      <th>...</th>\n",
       "      <th>n_injured</th>\n",
       "      <th>n_arrested</th>\n",
       "      <th>n_unharmed</th>\n",
       "      <th>n_participants</th>\n",
       "      <th>incident_characteristics1</th>\n",
       "      <th>timestamp</th>\n",
       "      <th>povertyPercentage</th>\n",
       "      <th>party</th>\n",
       "      <th>candidatevotes</th>\n",
       "      <th>totalvotes</th>\n",
       "    </tr>\n",
       "  </thead>\n",
       "  <tbody>\n",
       "    <tr>\n",
       "      <th>0</th>\n",
       "      <td>2016.0</td>\n",
       "      <td>9</td>\n",
       "      <td>24</td>\n",
       "      <td>CALIFORNIA</td>\n",
       "      <td>Truckee</td>\n",
       "      <td>38.4409</td>\n",
       "      <td>-86.2730</td>\n",
       "      <td>4.0</td>\n",
       "      <td>25.0</td>\n",
       "      <td>27.0</td>\n",
       "      <td>...</td>\n",
       "      <td>0.0</td>\n",
       "      <td>0.0</td>\n",
       "      <td>3.0</td>\n",
       "      <td>4.0</td>\n",
       "      <td>Shot - Dead (murder, accidental, suicide)</td>\n",
       "      <td>2458.0</td>\n",
       "      <td>12.5</td>\n",
       "      <td>REPUBLICAN</td>\n",
       "      <td>220133.0</td>\n",
       "      <td>350978.0</td>\n",
       "    </tr>\n",
       "    <tr>\n",
       "      <th>1</th>\n",
       "      <td>2016.0</td>\n",
       "      <td>9</td>\n",
       "      <td>24</td>\n",
       "      <td>CALIFORNIA</td>\n",
       "      <td>Truckee</td>\n",
       "      <td>38.4409</td>\n",
       "      <td>-86.2730</td>\n",
       "      <td>4.0</td>\n",
       "      <td>25.0</td>\n",
       "      <td>27.0</td>\n",
       "      <td>...</td>\n",
       "      <td>0.0</td>\n",
       "      <td>0.0</td>\n",
       "      <td>3.0</td>\n",
       "      <td>4.0</td>\n",
       "      <td>Shot - Dead (murder, accidental, suicide)</td>\n",
       "      <td>2458.0</td>\n",
       "      <td>12.5</td>\n",
       "      <td>REPUBLICAN</td>\n",
       "      <td>126784.0</td>\n",
       "      <td>211134.0</td>\n",
       "    </tr>\n",
       "    <tr>\n",
       "      <th>2</th>\n",
       "      <td>2016.0</td>\n",
       "      <td>8</td>\n",
       "      <td>31</td>\n",
       "      <td>SOUTH CAROLINA</td>\n",
       "      <td>Rock Hill</td>\n",
       "      <td>34.9277</td>\n",
       "      <td>-80.9862</td>\n",
       "      <td>5.0</td>\n",
       "      <td>25.0</td>\n",
       "      <td>27.0</td>\n",
       "      <td>...</td>\n",
       "      <td>0.0</td>\n",
       "      <td>0.0</td>\n",
       "      <td>2.0</td>\n",
       "      <td>2.0</td>\n",
       "      <td>Non-Shooting Incident</td>\n",
       "      <td>2434.0</td>\n",
       "      <td>14.1</td>\n",
       "      <td>REPUBLICAN</td>\n",
       "      <td>161669.0</td>\n",
       "      <td>273006.0</td>\n",
       "    </tr>\n",
       "    <tr>\n",
       "      <th>3</th>\n",
       "      <td>2016.0</td>\n",
       "      <td>8</td>\n",
       "      <td>31</td>\n",
       "      <td>SOUTH CAROLINA</td>\n",
       "      <td>Rock Hill</td>\n",
       "      <td>34.9277</td>\n",
       "      <td>-80.9862</td>\n",
       "      <td>5.0</td>\n",
       "      <td>25.0</td>\n",
       "      <td>27.0</td>\n",
       "      <td>...</td>\n",
       "      <td>0.0</td>\n",
       "      <td>0.0</td>\n",
       "      <td>2.0</td>\n",
       "      <td>2.0</td>\n",
       "      <td>Non-Shooting Incident</td>\n",
       "      <td>2434.0</td>\n",
       "      <td>14.1</td>\n",
       "      <td>REPUBLICAN</td>\n",
       "      <td>103078.0</td>\n",
       "      <td>175145.0</td>\n",
       "    </tr>\n",
       "    <tr>\n",
       "      <th>4</th>\n",
       "      <td>2017.0</td>\n",
       "      <td>4</td>\n",
       "      <td>6</td>\n",
       "      <td>INDIANA</td>\n",
       "      <td>Fort Wayne</td>\n",
       "      <td>41.0902</td>\n",
       "      <td>-85.1509</td>\n",
       "      <td>3.0</td>\n",
       "      <td>18.0</td>\n",
       "      <td>18.0</td>\n",
       "      <td>...</td>\n",
       "      <td>2.0</td>\n",
       "      <td>0.0</td>\n",
       "      <td>0.0</td>\n",
       "      <td>2.0</td>\n",
       "      <td>Shot - Wounded/Injured</td>\n",
       "      <td>2652.0</td>\n",
       "      <td>11.1</td>\n",
       "      <td>REPUBLICAN</td>\n",
       "      <td>201396.0</td>\n",
       "      <td>287247.0</td>\n",
       "    </tr>\n",
       "    <tr>\n",
       "      <th>...</th>\n",
       "      <td>...</td>\n",
       "      <td>...</td>\n",
       "      <td>...</td>\n",
       "      <td>...</td>\n",
       "      <td>...</td>\n",
       "      <td>...</td>\n",
       "      <td>...</td>\n",
       "      <td>...</td>\n",
       "      <td>...</td>\n",
       "      <td>...</td>\n",
       "      <td>...</td>\n",
       "      <td>...</td>\n",
       "      <td>...</td>\n",
       "      <td>...</td>\n",
       "      <td>...</td>\n",
       "      <td>...</td>\n",
       "      <td>...</td>\n",
       "      <td>...</td>\n",
       "      <td>...</td>\n",
       "      <td>...</td>\n",
       "      <td>...</td>\n",
       "    </tr>\n",
       "    <tr>\n",
       "      <th>422541</th>\n",
       "      <td>2016.0</td>\n",
       "      <td>12</td>\n",
       "      <td>9</td>\n",
       "      <td>TEXAS</td>\n",
       "      <td>Laredo</td>\n",
       "      <td>27.4700</td>\n",
       "      <td>-99.4622</td>\n",
       "      <td>28.0</td>\n",
       "      <td>34.0</td>\n",
       "      <td>34.0</td>\n",
       "      <td>...</td>\n",
       "      <td>0.0</td>\n",
       "      <td>1.0</td>\n",
       "      <td>0.0</td>\n",
       "      <td>1.0</td>\n",
       "      <td>Non-Shooting Incident</td>\n",
       "      <td>2534.0</td>\n",
       "      <td>13.7</td>\n",
       "      <td>DEMOCRAT</td>\n",
       "      <td>62508.0</td>\n",
       "      <td>76136.0</td>\n",
       "    </tr>\n",
       "    <tr>\n",
       "      <th>422542</th>\n",
       "      <td>2017.0</td>\n",
       "      <td>7</td>\n",
       "      <td>30</td>\n",
       "      <td>MASSACHUSETTS</td>\n",
       "      <td>Fitchburg</td>\n",
       "      <td>42.5785</td>\n",
       "      <td>-71.7867</td>\n",
       "      <td>3.0</td>\n",
       "      <td>39.0</td>\n",
       "      <td>39.0</td>\n",
       "      <td>...</td>\n",
       "      <td>0.0</td>\n",
       "      <td>1.0</td>\n",
       "      <td>0.0</td>\n",
       "      <td>1.0</td>\n",
       "      <td>Non-Shooting Incident</td>\n",
       "      <td>2767.0</td>\n",
       "      <td>9.2</td>\n",
       "      <td>DEMOCRAT</td>\n",
       "      <td>236713.0</td>\n",
       "      <td>360124.0</td>\n",
       "    </tr>\n",
       "    <tr>\n",
       "      <th>422543</th>\n",
       "      <td>2017.0</td>\n",
       "      <td>7</td>\n",
       "      <td>30</td>\n",
       "      <td>MASSACHUSETTS</td>\n",
       "      <td>Fitchburg</td>\n",
       "      <td>42.5785</td>\n",
       "      <td>-71.7867</td>\n",
       "      <td>3.0</td>\n",
       "      <td>39.0</td>\n",
       "      <td>39.0</td>\n",
       "      <td>...</td>\n",
       "      <td>0.0</td>\n",
       "      <td>1.0</td>\n",
       "      <td>0.0</td>\n",
       "      <td>1.0</td>\n",
       "      <td>Non-Shooting Incident</td>\n",
       "      <td>2767.0</td>\n",
       "      <td>9.2</td>\n",
       "      <td>DEMOCRAT</td>\n",
       "      <td>236713.0</td>\n",
       "      <td>360124.0</td>\n",
       "    </tr>\n",
       "    <tr>\n",
       "      <th>422544</th>\n",
       "      <td>2018.0</td>\n",
       "      <td>2</td>\n",
       "      <td>21</td>\n",
       "      <td>ALABAMA</td>\n",
       "      <td>Montgomery</td>\n",
       "      <td>32.3559</td>\n",
       "      <td>-86.3270</td>\n",
       "      <td>2.0</td>\n",
       "      <td>25.0</td>\n",
       "      <td>27.0</td>\n",
       "      <td>...</td>\n",
       "      <td>2.0</td>\n",
       "      <td>0.0</td>\n",
       "      <td>0.0</td>\n",
       "      <td>3.0</td>\n",
       "      <td>Shot - Wounded/Injured</td>\n",
       "      <td>2973.0</td>\n",
       "      <td>14.6</td>\n",
       "      <td>REPUBLICAN</td>\n",
       "      <td>138879.0</td>\n",
       "      <td>226230.0</td>\n",
       "    </tr>\n",
       "    <tr>\n",
       "      <th>422545</th>\n",
       "      <td>2018.0</td>\n",
       "      <td>2</td>\n",
       "      <td>21</td>\n",
       "      <td>ALABAMA</td>\n",
       "      <td>Montgomery</td>\n",
       "      <td>32.3559</td>\n",
       "      <td>-86.3270</td>\n",
       "      <td>2.0</td>\n",
       "      <td>25.0</td>\n",
       "      <td>27.0</td>\n",
       "      <td>...</td>\n",
       "      <td>2.0</td>\n",
       "      <td>0.0</td>\n",
       "      <td>0.0</td>\n",
       "      <td>3.0</td>\n",
       "      <td>Shot - Wounded/Injured</td>\n",
       "      <td>2973.0</td>\n",
       "      <td>14.6</td>\n",
       "      <td>REPUBLICAN</td>\n",
       "      <td>134886.0</td>\n",
       "      <td>276584.0</td>\n",
       "    </tr>\n",
       "  </tbody>\n",
       "</table>\n",
       "<p>422546 rows × 27 columns</p>\n",
       "</div>"
      ],
      "text/plain": [
       "        date_year  date_month  date_day           state city_or_county  \\\n",
       "0          2016.0           9        24      CALIFORNIA        Truckee   \n",
       "1          2016.0           9        24      CALIFORNIA        Truckee   \n",
       "2          2016.0           8        31  SOUTH CAROLINA      Rock Hill   \n",
       "3          2016.0           8        31  SOUTH CAROLINA      Rock Hill   \n",
       "4          2017.0           4         6         INDIANA     Fort Wayne   \n",
       "...           ...         ...       ...             ...            ...   \n",
       "422541     2016.0          12         9           TEXAS         Laredo   \n",
       "422542     2017.0           7        30   MASSACHUSETTS      Fitchburg   \n",
       "422543     2017.0           7        30   MASSACHUSETTS      Fitchburg   \n",
       "422544     2018.0           2        21         ALABAMA     Montgomery   \n",
       "422545     2018.0           2        21         ALABAMA     Montgomery   \n",
       "\n",
       "        latitude  longitude  congressional_district  min_age_participants  \\\n",
       "0        38.4409   -86.2730                     4.0                  25.0   \n",
       "1        38.4409   -86.2730                     4.0                  25.0   \n",
       "2        34.9277   -80.9862                     5.0                  25.0   \n",
       "3        34.9277   -80.9862                     5.0                  25.0   \n",
       "4        41.0902   -85.1509                     3.0                  18.0   \n",
       "...          ...        ...                     ...                   ...   \n",
       "422541   27.4700   -99.4622                    28.0                  34.0   \n",
       "422542   42.5785   -71.7867                     3.0                  39.0   \n",
       "422543   42.5785   -71.7867                     3.0                  39.0   \n",
       "422544   32.3559   -86.3270                     2.0                  25.0   \n",
       "422545   32.3559   -86.3270                     2.0                  25.0   \n",
       "\n",
       "        avg_age_participants  ...  n_injured  n_arrested  n_unharmed  \\\n",
       "0                       27.0  ...        0.0         0.0         3.0   \n",
       "1                       27.0  ...        0.0         0.0         3.0   \n",
       "2                       27.0  ...        0.0         0.0         2.0   \n",
       "3                       27.0  ...        0.0         0.0         2.0   \n",
       "4                       18.0  ...        2.0         0.0         0.0   \n",
       "...                      ...  ...        ...         ...         ...   \n",
       "422541                  34.0  ...        0.0         1.0         0.0   \n",
       "422542                  39.0  ...        0.0         1.0         0.0   \n",
       "422543                  39.0  ...        0.0         1.0         0.0   \n",
       "422544                  27.0  ...        2.0         0.0         0.0   \n",
       "422545                  27.0  ...        2.0         0.0         0.0   \n",
       "\n",
       "        n_participants                  incident_characteristics1  timestamp  \\\n",
       "0                  4.0  Shot - Dead (murder, accidental, suicide)     2458.0   \n",
       "1                  4.0  Shot - Dead (murder, accidental, suicide)     2458.0   \n",
       "2                  2.0                      Non-Shooting Incident     2434.0   \n",
       "3                  2.0                      Non-Shooting Incident     2434.0   \n",
       "4                  2.0                     Shot - Wounded/Injured     2652.0   \n",
       "...                ...                                        ...        ...   \n",
       "422541             1.0                      Non-Shooting Incident     2534.0   \n",
       "422542             1.0                      Non-Shooting Incident     2767.0   \n",
       "422543             1.0                      Non-Shooting Incident     2767.0   \n",
       "422544             3.0                     Shot - Wounded/Injured     2973.0   \n",
       "422545             3.0                     Shot - Wounded/Injured     2973.0   \n",
       "\n",
       "        povertyPercentage       party  candidatevotes  totalvotes  \n",
       "0                    12.5  REPUBLICAN        220133.0    350978.0  \n",
       "1                    12.5  REPUBLICAN        126784.0    211134.0  \n",
       "2                    14.1  REPUBLICAN        161669.0    273006.0  \n",
       "3                    14.1  REPUBLICAN        103078.0    175145.0  \n",
       "4                    11.1  REPUBLICAN        201396.0    287247.0  \n",
       "...                   ...         ...             ...         ...  \n",
       "422541               13.7    DEMOCRAT         62508.0     76136.0  \n",
       "422542                9.2    DEMOCRAT        236713.0    360124.0  \n",
       "422543                9.2    DEMOCRAT        236713.0    360124.0  \n",
       "422544               14.6  REPUBLICAN        138879.0    226230.0  \n",
       "422545               14.6  REPUBLICAN        134886.0    276584.0  \n",
       "\n",
       "[422546 rows x 27 columns]"
      ]
     },
     "execution_count": 73,
     "metadata": {},
     "output_type": "execute_result"
    }
   ],
   "source": [
    "merged"
   ]
  }
 ],
 "metadata": {
  "kernelspec": {
   "display_name": "DM",
   "language": "python",
   "name": "python3"
  },
  "language_info": {
   "codemirror_mode": {
    "name": "ipython",
    "version": 3
   },
   "file_extension": ".py",
   "mimetype": "text/x-python",
   "name": "python",
   "nbconvert_exporter": "python",
   "pygments_lexer": "ipython3",
   "version": "3.11.5"
  },
  "orig_nbformat": 4
 },
 "nbformat": 4,
 "nbformat_minor": 2
}
